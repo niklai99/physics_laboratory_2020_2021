{
 "metadata": {
  "language_info": {
   "codemirror_mode": {
    "name": "ipython",
    "version": 3
   },
   "file_extension": ".py",
   "mimetype": "text/x-python",
   "name": "python",
   "nbconvert_exporter": "python",
   "pygments_lexer": "ipython3",
   "version": "3.7.6-final"
  },
  "orig_nbformat": 2,
  "kernelspec": {
   "name": "python3",
   "display_name": "Python 3"
  }
 },
 "nbformat": 4,
 "nbformat_minor": 2,
 "cells": [
  {
   "cell_type": "code",
   "execution_count": 1,
   "metadata": {},
   "outputs": [],
   "source": [
    "import pandas as pd\n",
    "import numpy as np\n",
    "import matplotlib.pyplot as plt\n",
    "import seaborn as sns\n",
    "from scipy import stats\n",
    "from scipy.optimize import curve_fit\n",
    "from jupyterthemes import jtplot\n",
    "jtplot.reset()"
   ]
  },
  {
   "source": [
    "### LINEARITA PREAMPLIFICATORE - FIT LINEARE Vmax vs Qin"
   ],
   "cell_type": "markdown",
   "metadata": {}
  },
  {
   "cell_type": "code",
   "execution_count": null,
   "metadata": {},
   "outputs": [],
   "source": [
    "# READ DATA\n",
    "file = '../Data/PreAmp/.txt'\n",
    "\n",
    "data = pd.read_csv(file, sep = '\\t', index_col = False, header = None)\n",
    "data.index = np.arange(1, len(data)+1)\n",
    "\n",
    "data.columns = ['Q', 'V']"
   ]
  },
  {
   "cell_type": "code",
   "execution_count": 2,
   "metadata": {},
   "outputs": [],
   "source": [
    "# LINEAR FUCTION\n",
    "def lin(x, a, b):\n",
    "    return a + b * x"
   ]
  },
  {
   "cell_type": "code",
   "execution_count": null,
   "metadata": {},
   "outputs": [],
   "source": [
    "# FIG SETTINGS AND AXES\n",
    "fig = plt.figure(figsize=(16,8))\n",
    "ax1 = fig.add_subplot(1, 2, 1)\n",
    "ax2 = fig.add_subplot(1, 2, 2)\n",
    "\n",
    "# PERFORM THE FIT\n",
    "par_lin, cov_lin = curve_fit(f = lin, xdata = data['Q'], ydata = data['V'], sigma = 0, absolute_sigma = True)\n",
    "func = lin(data['Q'], *par_lin)\n",
    "\n",
    "# PLOT DATA\n",
    "ax1.errorbar(data['Q'], ydata = data['V'], xerr=0, yerr=0, marker = '.',\n",
    "             elinewidth=0.5, color = '#000000', linewidth=0, capsize=2, label = 'Data')\n",
    "\n",
    "# PLOT FIT FUNCTION\n",
    "ax1.plot(data['Q'], func, color = '#FF4B00', linewidth = 2, label = 'Fit')\n",
    "\n",
    "# COMPUTE RESIDUALS\n",
    "res = data['V'] - func\n",
    "\n",
    "# COMPUTE CHI2\n",
    "chi2 = np.sum((res/1)**2) #ci andrebbe l'errore sulle y invece che 1\n",
    "\n",
    "# DRAW DASHED 'ZERO' LINE\n",
    "ax2.axhline(color = '#000000', linewidth = 0.5, linestyle = 'dashed')\n",
    "\n",
    "# DRAW RESIDUALS\n",
    "ax2.errorbar(data['Q'], res, xerr=0, yerr=0, marker = '.', elinewidth=0.5, color = '#000000', linewidth=0, capsize=2)\n",
    "\n",
    "# GET FIT PARAMETERS AND PARAMETER ERRORS\n",
    "error = []\n",
    "\n",
    "for i in range(len(par_lin)):\n",
    "    try:\n",
    "        error.append(np.absolute(cov_lin[i][i])**0.5)\n",
    "    except:\n",
    "        error.append( 0.00 )\n",
    "\n",
    "fit_par = par_lin\n",
    "fit_err = np.array(error)\n",
    "\n",
    "a = fit_par[0]\n",
    "b = fit_par[1]\n",
    "err_a = fit_err[0]\n",
    "err_b = fit_err[1]\n",
    "\n",
    "# MAKE LEGEND\n",
    "ax1.legend(loc = 'best', prop = {'size': 18})\n",
    "\n",
    "plt.show()"
   ]
  },
  {
   "source": [
    "### ARDUINO - TEMPO CARATTERISTICO"
   ],
   "cell_type": "markdown",
   "metadata": {}
  },
  {
   "cell_type": "code",
   "execution_count": null,
   "metadata": {},
   "outputs": [],
   "source": [
    "# READ DATA\n",
    "file = '../Data/PreAmp/.txt'\n",
    "\n",
    "data = pd.read_csv(file, sep = '\\t', index_col = False, header = None)\n",
    "data.index = np.arange(1, len(data)+1)\n",
    "\n",
    "data.columns = ['time', 'ADC']"
   ]
  },
  {
   "cell_type": "code",
   "execution_count": null,
   "metadata": {},
   "outputs": [],
   "source": [
    "# EXPONENTIAL FUCTION\n",
    "def expo(x, a, b, c):\n",
    "    return a * np.exp(-b * x) + c"
   ]
  },
  {
   "cell_type": "code",
   "execution_count": null,
   "metadata": {},
   "outputs": [],
   "source": [
    "# FIG SETTINGS AND AXES\n",
    "fig = plt.figure(figsize=(16,8))\n",
    "ax1 = fig.add_subplot(1, 2, 1)\n",
    "ax2 = fig.add_subplot(1, 2, 2)\n",
    "\n",
    "# PERFORM THE FIT\n",
    "par_exp, cov_exp = curve_fit(f = expo, xdata = data['time'], ydata = data['ADC'], sigma = 0, absolute_sigma = True,\n",
    "                                p0 = [0.5, 0.01, 1])\n",
    "func = expo(data['time'], *par_exp)\n",
    "\n",
    "# PLOT DATA\n",
    "ax1.errorbar(data['time'], ydata = data['ADC'], xerr=0, yerr=0, marker = '.',\n",
    "             elinewidth=0.5, color = '#000000', linewidth=0, capsize=2, label = 'Data')\n",
    "\n",
    "# PLOT FIT FUNCTION\n",
    "ax1.plot(data['time'], func, color = '#FF4B00', linewidth = 2, label = 'Fit')\n",
    "\n",
    "# COMPUTE RESIDUALS\n",
    "res = data['ADC'] - func\n",
    "\n",
    "# COMPUTE CHI2\n",
    "chi2 = np.sum((res/1)**2)\n",
    "\n",
    "# DRAW DASHED 'ZERO' LINE\n",
    "ax2.axhline(color = '#000000', linewidth = 0.5, linestyle = 'dashed')\n",
    "\n",
    "# DRAW RESIDUALS\n",
    "ax2.errorbar(data['Q'], res, xerr=0, yerr=0, marker = '.', elinewidth=0.5, color = '#000000', linewidth=0, capsize=2)\n",
    "\n",
    "# GET FIT PARAMETERS AND PARAMETER ERRORS\n",
    "error = []\n",
    "\n",
    "for i in range(len(par_exp)):\n",
    "    try:\n",
    "        error.append(np.absolute(cov_exp[i][i])**0.5)\n",
    "    except:\n",
    "        error.append( 0.00 )\n",
    "\n",
    "fit_par = par_exp\n",
    "fit_err = np.array(error)\n",
    "\n",
    "a = fit_par[0]\n",
    "b = fit_par[1]\n",
    "c = fit_par[2]\n",
    "err_a = fit_err[0]\n",
    "err_b = fit_err[1]\n",
    "err_c = fit_err[2]\n",
    "\n",
    "# MAKE LEGEND\n",
    "ax1.legend(loc = 'best', prop = {'size': 18})\n",
    "\n",
    "plt.show()"
   ]
  },
  {
   "source": [
    "### RISPOSTA IN FREQUENZA - BODE PLOT"
   ],
   "cell_type": "markdown",
   "metadata": {}
  },
  {
   "cell_type": "code",
   "execution_count": null,
   "metadata": {},
   "outputs": [],
   "source": [
    "# READ DATA\n",
    "file = '../Data/PreAmp/.txt'\n",
    "\n",
    "data = pd.read_csv(file, sep = '\\t', index_col = False, header = None)\n",
    "data.index = np.arange(1, len(data)+1)\n",
    "\n",
    "data.columns = ['f', 'Vin', 'Vout']\n",
    "\n",
    "T = data['Vout'] / data['Vin']\n",
    "data['T'] = T\n",
    "\n",
    "data['f'] = np.log10(data['f'])\n",
    "data['T'] = 20 * np.log10(data['T'])"
   ]
  },
  {
   "cell_type": "code",
   "execution_count": null,
   "metadata": {},
   "outputs": [],
   "source": [
    "# FIG SETTINGS AND AXES\n",
    "fig = plt.figure(figsize=(16,8))\n",
    "ax1 = fig.add_subplot(1, 1, 1)\n",
    "\n",
    "# PLOT DATA\n",
    "ax1.plot(data['f'], data['T'], color = '#000000', linewidth = 0, marker = '.', label = 'Data')\n",
    "\n",
    "plt.show()"
   ]
  }
 ]
}