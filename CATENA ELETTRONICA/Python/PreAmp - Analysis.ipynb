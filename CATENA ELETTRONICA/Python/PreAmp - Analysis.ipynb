{
 "metadata": {
  "language_info": {
   "codemirror_mode": {
    "name": "ipython",
    "version": 3
   },
   "file_extension": ".py",
   "mimetype": "text/x-python",
   "name": "python",
   "nbconvert_exporter": "python",
   "pygments_lexer": "ipython3",
   "version": "3.7.6-final"
  },
  "orig_nbformat": 2,
  "kernelspec": {
   "name": "python3",
   "display_name": "Python 3"
  }
 },
 "nbformat": 4,
 "nbformat_minor": 2,
 "cells": [
  {
   "source": [
    "# Pre-Amplifier Data Analysis\n",
    "\n",
    "***\n",
    "***"
   ],
   "cell_type": "markdown",
   "metadata": {}
  },
  {
   "source": [
    "## Import modules\n",
    "***"
   ],
   "cell_type": "markdown",
   "metadata": {}
  },
  {
   "cell_type": "code",
   "execution_count": 2,
   "metadata": {},
   "outputs": [],
   "source": [
    "import pandas as pd\n",
    "import matplotlib as mpl\n",
    "import matplotlib.pyplot as plt\n",
    "from matplotlib.ticker import ScalarFormatter\n",
    "import seaborn as sns\n",
    "import numpy as np\n",
    "from scipy import stats\n",
    "from scipy.optimize import curve_fit\n",
    "from jupyterthemes import jtplot\n",
    "jtplot.reset()\n",
    "import warnings\n",
    "warnings.filterwarnings('ignore')\n",
    "%matplotlib inline"
   ]
  },
  {
   "cell_type": "code",
   "execution_count": 3,
   "metadata": {},
   "outputs": [],
   "source": [
    "import importlib\n",
    "import PreAmp_Analysis_Code as PA"
   ]
  },
  {
   "cell_type": "code",
   "execution_count": 11,
   "metadata": {},
   "outputs": [
    {
     "output_type": "execute_result",
     "data": {
      "text/plain": [
       "<module 'PreAmp_Analysis_Code' from 'd:\\\\GitHub\\\\physics_laboratory_2020_2021\\\\CATENA ELETTRONICA\\\\Python\\\\PreAmp_Analysis_Code.py'>"
      ]
     },
     "metadata": {},
     "execution_count": 11
    }
   ],
   "source": [
    "importlib.reload(PA)"
   ]
  },
  {
   "source": [
    "## Misure dirette delle componenti circuitali\n",
    "\n",
    "***"
   ],
   "cell_type": "markdown",
   "metadata": {}
  },
  {
   "cell_type": "code",
   "execution_count": 5,
   "metadata": {},
   "outputs": [
    {
     "output_type": "execute_result",
     "data": {
      "text/plain": [
       "        Valore    Errore       FS\n",
       "Rin  56.564 kΩ  0.023 kΩ   100 kΩ\n",
       "Rf   696.06 kΩ   0.29 kΩ  1000 kΩ\n",
       "Cf      222 pF      9 pF  1000 pF"
      ],
      "text/html": "<div>\n<style scoped>\n    .dataframe tbody tr th:only-of-type {\n        vertical-align: middle;\n    }\n\n    .dataframe tbody tr th {\n        vertical-align: top;\n    }\n\n    .dataframe thead th {\n        text-align: right;\n    }\n</style>\n<table border=\"1\" class=\"dataframe\">\n  <thead>\n    <tr style=\"text-align: right;\">\n      <th></th>\n      <th>Valore</th>\n      <th>Errore</th>\n      <th>FS</th>\n    </tr>\n  </thead>\n  <tbody>\n    <tr>\n      <th>Rin</th>\n      <td>56.564 kΩ</td>\n      <td>0.023 kΩ</td>\n      <td>100 kΩ</td>\n    </tr>\n    <tr>\n      <th>Rf</th>\n      <td>696.06 kΩ</td>\n      <td>0.29 kΩ</td>\n      <td>1000 kΩ</td>\n    </tr>\n    <tr>\n      <th>Cf</th>\n      <td>222 pF</td>\n      <td>9 pF</td>\n      <td>1000 pF</td>\n    </tr>\n  </tbody>\n</table>\n</div>"
     },
     "metadata": {},
     "execution_count": 5
    }
   ],
   "source": [
    "componenti = PA.misure_dirette()\n",
    "componenti"
   ]
  },
  {
   "source": [
    "## Stime Teoriche \n",
    "\n",
    "***"
   ],
   "cell_type": "markdown",
   "metadata": {}
  },
  {
   "cell_type": "code",
   "execution_count": 13,
   "metadata": {},
   "outputs": [
    {
     "output_type": "stream",
     "name": "stdout",
     "text": [
      "Q_th =  89.987 +/- 1.672  pC\nτ_th =  154.525 +/- 6.457  μs\nVmax_th =  405.345 +/- 18.536  mV\n"
     ]
    }
   ],
   "source": [
    "# CARICA TEORICA\n",
    "PA.carica_teorica()\n",
    "\n",
    "# TEMPO CARATTERISTICO TEORICO\n",
    "PA.tau_teorico()\n",
    "\n",
    "# VMAX TEORICO\n",
    "PA.Vmax_teorico()"
   ]
  },
  {
   "source": [
    "## Stime Sperimentali \n",
    "\n",
    "***"
   ],
   "cell_type": "markdown",
   "metadata": {}
  },
  {
   "cell_type": "code",
   "execution_count": 27,
   "metadata": {},
   "outputs": [
    {
     "output_type": "stream",
     "name": "stdout",
     "text": [
      "τ_sper = 158 μs circa\nVmax_sper = 392 +/- 7 mV\n\nLa misura sperimentale di Vmax si discosta da quella teorica del 3.3%\n"
     ]
    }
   ],
   "source": [
    "# TEMPO CARATTERISTICO SPERIMENTALE\n",
    "print('\\u03C4_sper = ' + format(PA.tau_sper, '1.0f') + ' \\u03BCs circa')\n",
    "\n",
    "# VMAX SPERIMENTALE\n",
    "print('Vmax_sper = ' + format(PA.Vmax_sper * 1e3, '1.0f') + ' +/- ' + format(PA.sigma_Vmax_sper * 1e3, '1.0f') + ' mV')\n",
    "\n",
    "# VARIAZIONE PERCENTUALE VMAX SPER E VMAX TH \n",
    "print('\\nLa misura sperimentale di Vmax si discosta da quella teorica del ' + format(100 * np.abs(PA.Vmax_sper - PA.Vmax_th) / PA.Vmax_th, '1.1f') + '%')"
   ]
  },
  {
   "source": [
    "## Verifica della Linearità del PreAmp\n",
    "\n",
    "***"
   ],
   "cell_type": "markdown",
   "metadata": {}
  },
  {
   "cell_type": "code",
   "execution_count": null,
   "metadata": {},
   "outputs": [],
   "source": []
  }
 ]
}