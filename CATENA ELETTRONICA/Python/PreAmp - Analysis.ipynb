{
 "metadata": {
  "language_info": {
   "codemirror_mode": {
    "name": "ipython",
    "version": 3
   },
   "file_extension": ".py",
   "mimetype": "text/x-python",
   "name": "python",
   "nbconvert_exporter": "python",
   "pygments_lexer": "ipython3",
   "version": "3.7.6-final"
  },
  "orig_nbformat": 2,
  "kernelspec": {
   "name": "python3",
   "display_name": "Python 3"
  }
 },
 "nbformat": 4,
 "nbformat_minor": 2,
 "cells": [
  {
   "source": [
    "# Pre-Amplifier Data Analysis\n",
    "\n",
    "***\n",
    "***"
   ],
   "cell_type": "markdown",
   "metadata": {}
  },
  {
   "source": [
    "## Import modules\n",
    "***"
   ],
   "cell_type": "markdown",
   "metadata": {}
  },
  {
   "cell_type": "code",
   "execution_count": 2,
   "metadata": {},
   "outputs": [],
   "source": [
    "import pandas as pd\n",
    "import matplotlib as mpl\n",
    "import matplotlib.pyplot as plt\n",
    "from matplotlib.ticker import ScalarFormatter\n",
    "import seaborn as sns\n",
    "import numpy as np\n",
    "from scipy import stats\n",
    "from scipy.optimize import curve_fit\n",
    "from jupyterthemes import jtplot\n",
    "jtplot.reset()\n",
    "import warnings\n",
    "warnings.filterwarnings('ignore')\n",
    "%matplotlib inline"
   ]
  },
  {
   "cell_type": "code",
   "execution_count": 3,
   "metadata": {},
   "outputs": [],
   "source": [
    "import importlib\n",
    "import PreAmp_Analysis_Code as PA"
   ]
  },
  {
   "cell_type": "code",
   "execution_count": 33,
   "metadata": {},
   "outputs": [
    {
     "output_type": "execute_result",
     "data": {
      "text/plain": [
       "<module 'PreAmp_Analysis_Code' from 'd:\\\\GitHub\\\\physics_laboratory_2020_2021\\\\CATENA ELETTRONICA\\\\Python\\\\PreAmp_Analysis_Code.py'>"
      ]
     },
     "metadata": {},
     "execution_count": 33
    }
   ],
   "source": [
    "importlib.reload(PA)"
   ]
  },
  {
   "source": [
    "## Misure dirette delle componenti circuitali\n",
    "\n",
    "***"
   ],
   "cell_type": "markdown",
   "metadata": {}
  },
  {
   "cell_type": "code",
   "execution_count": 5,
   "metadata": {},
   "outputs": [
    {
     "output_type": "execute_result",
     "data": {
      "text/plain": [
       "        Valore    Errore       FS\n",
       "Rin  56.564 kΩ  0.023 kΩ   100 kΩ\n",
       "Rf   696.06 kΩ   0.29 kΩ  1000 kΩ\n",
       "Cf      222 pF      9 pF  1000 pF"
      ],
      "text/html": "<div>\n<style scoped>\n    .dataframe tbody tr th:only-of-type {\n        vertical-align: middle;\n    }\n\n    .dataframe tbody tr th {\n        vertical-align: top;\n    }\n\n    .dataframe thead th {\n        text-align: right;\n    }\n</style>\n<table border=\"1\" class=\"dataframe\">\n  <thead>\n    <tr style=\"text-align: right;\">\n      <th></th>\n      <th>Valore</th>\n      <th>Errore</th>\n      <th>FS</th>\n    </tr>\n  </thead>\n  <tbody>\n    <tr>\n      <th>Rin</th>\n      <td>56.564 kΩ</td>\n      <td>0.023 kΩ</td>\n      <td>100 kΩ</td>\n    </tr>\n    <tr>\n      <th>Rf</th>\n      <td>696.06 kΩ</td>\n      <td>0.29 kΩ</td>\n      <td>1000 kΩ</td>\n    </tr>\n    <tr>\n      <th>Cf</th>\n      <td>222 pF</td>\n      <td>9 pF</td>\n      <td>1000 pF</td>\n    </tr>\n  </tbody>\n</table>\n</div>"
     },
     "metadata": {},
     "execution_count": 5
    }
   ],
   "source": [
    "componenti = PA.misure_dirette()\n",
    "componenti"
   ]
  },
  {
   "source": [
    "In tabella sono riportate le misure dirette delle resistenze e della capacità utilizzate per assemlare il circuito\n",
    "\n",
    "![PreAmp Circuito](../Simulations/PreAmp/PreAmp_circuit.png)"
   ],
   "cell_type": "markdown",
   "metadata": {}
  },
  {
   "source": [
    "## Stime Teoriche \n",
    "\n",
    "***"
   ],
   "cell_type": "markdown",
   "metadata": {}
  },
  {
   "cell_type": "code",
   "execution_count": 13,
   "metadata": {},
   "outputs": [
    {
     "output_type": "stream",
     "name": "stdout",
     "text": [
      "Q_th =  89.987 +/- 1.672  pC\nτ_th =  154.525 +/- 6.457  μs\nVmax_th =  405.345 +/- 18.536  mV\n"
     ]
    }
   ],
   "source": [
    "# CARICA TEORICA\n",
    "PA.carica_teorica()\n",
    "\n",
    "# TEMPO CARATTERISTICO TEORICO\n",
    "PA.tau_teorico()\n",
    "\n",
    "# VMAX TEORICO\n",
    "PA.Vmax_teorico()"
   ]
  },
  {
   "source": [
    "## Stime Sperimentali \n",
    "\n",
    "***"
   ],
   "cell_type": "markdown",
   "metadata": {}
  },
  {
   "cell_type": "code",
   "execution_count": 27,
   "metadata": {},
   "outputs": [
    {
     "output_type": "stream",
     "name": "stdout",
     "text": [
      "τ_sper = 158 μs circa\nVmax_sper = 392 +/- 7 mV\n\nLa misura sperimentale di Vmax si discosta da quella teorica del 3.3%\n"
     ]
    }
   ],
   "source": [
    "# TEMPO CARATTERISTICO SPERIMENTALE\n",
    "print('\\u03C4_sper = ' + format(PA.tau_sper, '1.0f') + ' \\u03BCs circa')\n",
    "\n",
    "# VMAX SPERIMENTALE\n",
    "print('Vmax_sper = ' + format(PA.Vmax_sper * 1e3, '1.0f') + ' +/- ' + format(PA.sigma_Vmax_sper * 1e3, '1.0f') + ' mV')\n",
    "\n",
    "# VARIAZIONE PERCENTUALE VMAX SPER E VMAX TH \n",
    "print('\\nLa misura sperimentale di Vmax si discosta da quella teorica del ' + format(100 * np.abs(PA.Vmax_sper - PA.Vmax_th) / PA.Vmax_th, '1.1f') + '%')"
   ]
  },
  {
   "source": [
    "## Verifica della Linearità del PreAmp\n",
    "\n",
    "***"
   ],
   "cell_type": "markdown",
   "metadata": {}
  },
  {
   "cell_type": "code",
   "execution_count": 49,
   "metadata": {},
   "outputs": [
    {
     "output_type": "execute_result",
     "data": {
      "text/plain": [
       "   T (us)    Qin (pC)  sigma Qin (pF)  Vmax (V)  sigma Vmax (V)  Scala V/div  \\\n",
       "1       2   35.994626        0.668741     0.162        0.003147         0.05   \n",
       "2       3   53.991938        1.003112     0.238        0.004092         0.05   \n",
       "3       4   71.989251        1.337483     0.320        0.006248         0.10   \n",
       "4       5   89.986564        1.671854     0.392        0.007112         0.10   \n",
       "5       6  107.983877        2.006224     0.472        0.008132         0.10   \n",
       "6       7  125.981189        2.340595     0.548        0.009142         0.10   \n",
       "7       8  143.978502        2.674966     0.632        0.012404         0.20   \n",
       "8       9  161.975815        3.009337     0.704        0.013248         0.20   \n",
       "9      10  179.973128        3.343707     0.776        0.014124         0.20   \n",
       "\n",
       "   sigmaQin/Qin  sigmaVmax/Vmax  \n",
       "1      0.018579        0.019427  \n",
       "2      0.018579        0.017194  \n",
       "3      0.018579        0.019526  \n",
       "4      0.018579        0.018142  \n",
       "5      0.018579        0.017228  \n",
       "6      0.018579        0.016682  \n",
       "7      0.018579        0.019627  \n",
       "8      0.018579        0.018818  \n",
       "9      0.018579        0.018201  "
      ],
      "text/html": "<div>\n<style scoped>\n    .dataframe tbody tr th:only-of-type {\n        vertical-align: middle;\n    }\n\n    .dataframe tbody tr th {\n        vertical-align: top;\n    }\n\n    .dataframe thead th {\n        text-align: right;\n    }\n</style>\n<table border=\"1\" class=\"dataframe\">\n  <thead>\n    <tr style=\"text-align: right;\">\n      <th></th>\n      <th>T (us)</th>\n      <th>Qin (pC)</th>\n      <th>sigma Qin (pF)</th>\n      <th>Vmax (V)</th>\n      <th>sigma Vmax (V)</th>\n      <th>Scala V/div</th>\n      <th>sigmaQin/Qin</th>\n      <th>sigmaVmax/Vmax</th>\n    </tr>\n  </thead>\n  <tbody>\n    <tr>\n      <th>1</th>\n      <td>2</td>\n      <td>35.994626</td>\n      <td>0.668741</td>\n      <td>0.162</td>\n      <td>0.003147</td>\n      <td>0.05</td>\n      <td>0.018579</td>\n      <td>0.019427</td>\n    </tr>\n    <tr>\n      <th>2</th>\n      <td>3</td>\n      <td>53.991938</td>\n      <td>1.003112</td>\n      <td>0.238</td>\n      <td>0.004092</td>\n      <td>0.05</td>\n      <td>0.018579</td>\n      <td>0.017194</td>\n    </tr>\n    <tr>\n      <th>3</th>\n      <td>4</td>\n      <td>71.989251</td>\n      <td>1.337483</td>\n      <td>0.320</td>\n      <td>0.006248</td>\n      <td>0.10</td>\n      <td>0.018579</td>\n      <td>0.019526</td>\n    </tr>\n    <tr>\n      <th>4</th>\n      <td>5</td>\n      <td>89.986564</td>\n      <td>1.671854</td>\n      <td>0.392</td>\n      <td>0.007112</td>\n      <td>0.10</td>\n      <td>0.018579</td>\n      <td>0.018142</td>\n    </tr>\n    <tr>\n      <th>5</th>\n      <td>6</td>\n      <td>107.983877</td>\n      <td>2.006224</td>\n      <td>0.472</td>\n      <td>0.008132</td>\n      <td>0.10</td>\n      <td>0.018579</td>\n      <td>0.017228</td>\n    </tr>\n    <tr>\n      <th>6</th>\n      <td>7</td>\n      <td>125.981189</td>\n      <td>2.340595</td>\n      <td>0.548</td>\n      <td>0.009142</td>\n      <td>0.10</td>\n      <td>0.018579</td>\n      <td>0.016682</td>\n    </tr>\n    <tr>\n      <th>7</th>\n      <td>8</td>\n      <td>143.978502</td>\n      <td>2.674966</td>\n      <td>0.632</td>\n      <td>0.012404</td>\n      <td>0.20</td>\n      <td>0.018579</td>\n      <td>0.019627</td>\n    </tr>\n    <tr>\n      <th>8</th>\n      <td>9</td>\n      <td>161.975815</td>\n      <td>3.009337</td>\n      <td>0.704</td>\n      <td>0.013248</td>\n      <td>0.20</td>\n      <td>0.018579</td>\n      <td>0.018818</td>\n    </tr>\n    <tr>\n      <th>9</th>\n      <td>10</td>\n      <td>179.973128</td>\n      <td>3.343707</td>\n      <td>0.776</td>\n      <td>0.014124</td>\n      <td>0.20</td>\n      <td>0.018579</td>\n      <td>0.018201</td>\n    </tr>\n  </tbody>\n</table>\n</div>"
     },
     "metadata": {},
     "execution_count": 49
    }
   ],
   "source": [
    "# READ DATA FROM FILE\n",
    "data = PA.get_data('../Data/PreAmp/data_linearita.txt')\n",
    "data.columns = ['T (us)', 'Vmax (V)', 'Scala V/div']\n",
    "\n",
    "# COMPUTING CHARGE\n",
    "data['Qin (pC)'] = 1e12 * data['T (us)'] * 1e-6 * PA.V_amplitude / PA.Rin \n",
    "\n",
    "# ERROR PROPAGATION\n",
    "data['sigma Vmax (V)'] = PA.propagazione_cursori(data['Scala V/div'], data['Vmax (V)'])\n",
    "data['sigma Qin (pF)'] = 1e12 * data['T (us)'] * 1e-6 * np.sqrt( (PA.sigma_V_amplitude / PA.Rin)**2 + (PA.V_amplitude * PA.sigma_Rin / PA.Rin**2)**2 )\n",
    "\n",
    "data['sigmaQin/Qin'] = data['sigma Qin (pF)']/data['Qin (pC)']\n",
    "data['sigmaVmax/Vmax'] = data['sigma Vmax (V)']/data['Vmax (V)']\n",
    "\n",
    "# COLUMN REARRANGING\n",
    "data = data[['T (us)', 'Qin (pC)', 'sigma Qin (pF)', 'Vmax (V)', 'sigma Vmax (V)', 'Scala V/div', 'sigmaQin/Qin', 'sigmaVmax/Vmax']]\n",
    "data"
   ]
  }
 ]
}