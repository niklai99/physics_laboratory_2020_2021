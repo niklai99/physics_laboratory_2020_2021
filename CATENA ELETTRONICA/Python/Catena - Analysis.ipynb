{
 "metadata": {
  "language_info": {
   "codemirror_mode": {
    "name": "ipython",
    "version": 3
   },
   "file_extension": ".py",
   "mimetype": "text/x-python",
   "name": "python",
   "nbconvert_exporter": "python",
   "pygments_lexer": "ipython3",
   "version": 3
  },
  "orig_nbformat": 2
 },
 "nbformat": 4,
 "nbformat_minor": 2,
 "cells": [
  {
   "source": [
    "# Catena Elettronica Completa Data Analysis\n",
    "\n",
    "***\n",
    "***"
   ],
   "cell_type": "markdown",
   "metadata": {}
  },
  {
   "source": [
    "## TO DO LIST\n",
    "\n",
    "- [ ] Associare un errore alle misure dirette\n",
    "- [ ] Calcolare le stime teoriche delle quantità rilevanti\n",
    "- [ ] Controllare che l'apparato sperimentale risponda secondo le aspettative\n",
    "- [ ] Verificare la linearità della catena elettronica\n",
    "- [ ] Stimo la frequenza di taglio della risposta in frequenza con _THEBODE_\n",
    "- [ ] Verifico che tale stima sia compatibile con le aspettative"
   ],
   "cell_type": "markdown",
   "metadata": {}
  }
 ]
}