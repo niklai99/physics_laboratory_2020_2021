{
 "metadata": {
  "language_info": {
   "codemirror_mode": {
    "name": "ipython",
    "version": 3
   },
   "file_extension": ".py",
   "mimetype": "text/x-python",
   "name": "python",
   "nbconvert_exporter": "python",
   "pygments_lexer": "ipython3",
   "version": "3.7.6-final"
  },
  "orig_nbformat": 2,
  "kernelspec": {
   "name": "python3",
   "display_name": "Python 3"
  }
 },
 "nbformat": 4,
 "nbformat_minor": 2,
 "cells": [
  {
   "source": [
    "# Catena Elettronica Completa Data Analysis\n",
    "\n",
    "***\n",
    "***"
   ],
   "cell_type": "markdown",
   "metadata": {}
  },
  {
   "source": [
    "## TO DO LIST\n",
    "\n",
    "- [ ] Associare un errore alle misure dirette\n",
    "- [ ] Calcolare le stime teoriche delle quantità rilevanti\n",
    "- [ ] Controllare che l'apparato sperimentale risponda secondo le aspettative\n",
    "- [ ] Verificare la linearità della catena elettronica\n",
    "- [ ] Stimo la frequenza di taglio della risposta in frequenza con _THEBODE_\n",
    "- [ ] Verifico che tale stima sia compatibile con le aspettative"
   ],
   "cell_type": "markdown",
   "metadata": {}
  },
  {
   "cell_type": "code",
   "execution_count": 1,
   "metadata": {},
   "outputs": [],
   "source": [
    "import pandas as pd\n",
    "import matplotlib as mpl\n",
    "import matplotlib.pyplot as plt\n",
    "from matplotlib.ticker import ScalarFormatter\n",
    "import seaborn as sns\n",
    "import numpy as np\n",
    "from scipy import stats\n",
    "from scipy.optimize import curve_fit\n",
    "from jupyterthemes import jtplot\n",
    "jtplot.reset()\n",
    "import warnings\n",
    "warnings.filterwarnings('ignore')\n",
    "%matplotlib inline"
   ]
  },
  {
   "cell_type": "code",
   "execution_count": 2,
   "metadata": {},
   "outputs": [],
   "source": [
    "import importlib\n",
    "import Catena_Analysis_Code as CA"
   ]
  },
  {
   "cell_type": "code",
   "execution_count": 19,
   "metadata": {},
   "outputs": [
    {
     "output_type": "execute_result",
     "data": {
      "text/plain": [
       "<module 'Catena_Analysis_Code' from 'd:\\\\GitHub\\\\physics_laboratory_2020_2021\\\\CATENA ELETTRONICA\\\\Python\\\\Catena_Analysis_Code.py'>"
      ]
     },
     "metadata": {},
     "execution_count": 19
    }
   ],
   "source": [
    "importlib.reload(CA)"
   ]
  },
  {
   "cell_type": "code",
   "execution_count": 5,
   "metadata": {},
   "outputs": [
    {
     "output_type": "execute_result",
     "data": {
      "text/plain": [
       "       Valore    Errore      FS\n",
       "R1a  9.982 kΩ  0.006 kΩ  100 kΩ\n",
       "R2a  82.39 kΩ   0.03 kΩ  100 kΩ"
      ],
      "text/html": "<div>\n<style scoped>\n    .dataframe tbody tr th:only-of-type {\n        vertical-align: middle;\n    }\n\n    .dataframe tbody tr th {\n        vertical-align: top;\n    }\n\n    .dataframe thead th {\n        text-align: right;\n    }\n</style>\n<table border=\"1\" class=\"dataframe\">\n  <thead>\n    <tr style=\"text-align: right;\">\n      <th></th>\n      <th>Valore</th>\n      <th>Errore</th>\n      <th>FS</th>\n    </tr>\n  </thead>\n  <tbody>\n    <tr>\n      <th>R1a</th>\n      <td>9.982 kΩ</td>\n      <td>0.006 kΩ</td>\n      <td>100 kΩ</td>\n    </tr>\n    <tr>\n      <th>R2a</th>\n      <td>82.39 kΩ</td>\n      <td>0.03 kΩ</td>\n      <td>100 kΩ</td>\n    </tr>\n  </tbody>\n</table>\n</div>"
     },
     "metadata": {},
     "execution_count": 5
    }
   ],
   "source": [
    "componenti = CA.misure_dirette()\n",
    "componenti"
   ]
  },
  {
   "cell_type": "code",
   "execution_count": 23,
   "metadata": {},
   "outputs": [
    {
     "output_type": "execute_result",
     "data": {
      "text/plain": [
       "0.04056070229992778"
      ]
     },
     "metadata": {},
     "execution_count": 23
    }
   ],
   "source": [
    "CA.sigma_V_catena_expected"
   ]
  }
 ]
}