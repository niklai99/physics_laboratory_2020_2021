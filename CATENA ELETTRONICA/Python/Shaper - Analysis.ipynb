{
 "metadata": {
  "language_info": {
   "codemirror_mode": {
    "name": "ipython",
    "version": 3
   },
   "file_extension": ".py",
   "mimetype": "text/x-python",
   "name": "python",
   "nbconvert_exporter": "python",
   "pygments_lexer": "ipython3",
   "version": "3.7.6-final"
  },
  "orig_nbformat": 2,
  "kernelspec": {
   "name": "python3",
   "display_name": "Python 3"
  }
 },
 "nbformat": 4,
 "nbformat_minor": 2,
 "cells": [
  {
   "source": [
    "# Shaper Data Analysis\n",
    "\n",
    "***\n",
    "***"
   ],
   "cell_type": "markdown",
   "metadata": {}
  },
  {
   "source": [
    "## TO DO LIST\n",
    "\n",
    "- [x] Associare un errore alle misure dirette\n",
    "- [ ] Calcolare le stime teoriche delle quantità rilevanti\n",
    "- [ ] Controllare che l'apparato sperimentale risponda secondo le aspettative\n",
    "- [ ] Confronto la forma d'onda di Arduino con una simulazione Spice\n",
    "- [ ] Studiare la risposta in frequenza\n",
    "- [ ] Stimare la banda passante del filtro\n",
    "- [ ] Confronto con la simulazione Spice\n",
    "- [ ] Confrontare l'undershoot con Spice\n",
    "- [ ] Confronto la risposta con Rpz con Spice"
   ],
   "cell_type": "markdown",
   "metadata": {}
  },
  {
   "source": [
    "## Import modules\n",
    "***"
   ],
   "cell_type": "markdown",
   "metadata": {}
  },
  {
   "cell_type": "code",
   "execution_count": 1,
   "metadata": {},
   "outputs": [],
   "source": [
    "import pandas as pd\n",
    "import matplotlib as mpl\n",
    "import matplotlib.pyplot as plt\n",
    "from matplotlib.ticker import ScalarFormatter\n",
    "import seaborn as sns\n",
    "import numpy as np\n",
    "from scipy import stats\n",
    "from scipy.optimize import curve_fit\n",
    "from jupyterthemes import jtplot\n",
    "jtplot.reset()\n",
    "import warnings\n",
    "warnings.filterwarnings('ignore')\n",
    "%matplotlib inline"
   ]
  },
  {
   "cell_type": "code",
   "execution_count": 2,
   "metadata": {},
   "outputs": [],
   "source": [
    "import importlib\n",
    "import Shaper_Analysis_Code as SA"
   ]
  },
  {
   "cell_type": "code",
   "execution_count": 10,
   "metadata": {},
   "outputs": [
    {
     "output_type": "execute_result",
     "data": {
      "text/plain": [
       "<module 'Shaper_Analysis_Code' from 'd:\\\\GitHub\\\\physics_laboratory_2020_2021\\\\CATENA ELETTRONICA\\\\Python\\\\Shaper_Analysis_Code.py'>"
      ]
     },
     "metadata": {},
     "execution_count": 10
    }
   ],
   "source": [
    "importlib.reload(SA)"
   ]
  },
  {
   "source": [
    "## Misure dirette delle componenti circuitali\n",
    "\n",
    "***"
   ],
   "cell_type": "markdown",
   "metadata": {}
  },
  {
   "source": [
    "In tabella sono riportate le misure dirette delle resistenze e della capacità utilizzate per assemblare il circuito"
   ],
   "cell_type": "markdown",
   "metadata": {}
  },
  {
   "cell_type": "code",
   "execution_count": 8,
   "metadata": {},
   "outputs": [
    {
     "output_type": "execute_result",
     "data": {
      "text/plain": [
       "       Valore   Errore       FS\n",
       "R1  100.99 kΩ  0.06 kΩ  1000 kΩ\n",
       "R2   99.93 kΩ  0.06 kΩ  1000 kΩ\n",
       "C1     157 pF     9 pF  1000 pF\n",
       "C2     159 pF     9 pF  1000 pF"
      ],
      "text/html": "<div>\n<style scoped>\n    .dataframe tbody tr th:only-of-type {\n        vertical-align: middle;\n    }\n\n    .dataframe tbody tr th {\n        vertical-align: top;\n    }\n\n    .dataframe thead th {\n        text-align: right;\n    }\n</style>\n<table border=\"1\" class=\"dataframe\">\n  <thead>\n    <tr style=\"text-align: right;\">\n      <th></th>\n      <th>Valore</th>\n      <th>Errore</th>\n      <th>FS</th>\n    </tr>\n  </thead>\n  <tbody>\n    <tr>\n      <th>R1</th>\n      <td>100.99 kΩ</td>\n      <td>0.06 kΩ</td>\n      <td>1000 kΩ</td>\n    </tr>\n    <tr>\n      <th>R2</th>\n      <td>99.93 kΩ</td>\n      <td>0.06 kΩ</td>\n      <td>1000 kΩ</td>\n    </tr>\n    <tr>\n      <th>C1</th>\n      <td>157 pF</td>\n      <td>9 pF</td>\n      <td>1000 pF</td>\n    </tr>\n    <tr>\n      <th>C2</th>\n      <td>159 pF</td>\n      <td>9 pF</td>\n      <td>1000 pF</td>\n    </tr>\n  </tbody>\n</table>\n</div>"
     },
     "metadata": {},
     "execution_count": 8
    }
   ],
   "source": [
    "componenti = SA.misure_dirette()\n",
    "componenti"
   ]
  },
  {
   "source": [
    "## Stime Teoriche \n",
    "\n",
    "***\n",
    "\n",
    "Calcolo ora le stime teoriche delle quantità più rilevanti"
   ],
   "cell_type": "markdown",
   "metadata": {}
  },
  {
   "cell_type": "code",
   "execution_count": 13,
   "metadata": {},
   "outputs": [
    {
     "output_type": "stream",
     "name": "stdout",
     "text": [
      "τ_sh_th1 =  15.86 +/- 0.91  μs\nτ_sh_th2 =  15.89 +/- 0.90  μs\n"
     ]
    }
   ],
   "source": [
    "SA.get_tau_sh_th()"
   ]
  },
  {
   "cell_type": "code",
   "execution_count": 22,
   "metadata": {},
   "outputs": [
    {
     "output_type": "stream",
     "name": "stdout",
     "text": [
      "τ_sh_th =  15.87 +/- 0.64  μs\n"
     ]
    }
   ],
   "source": [
    "SA.get_tau_sh_mean()"
   ]
  },
  {
   "cell_type": "code",
   "execution_count": null,
   "metadata": {},
   "outputs": [],
   "source": []
  },
  {
   "cell_type": "code",
   "execution_count": 21,
   "metadata": {},
   "outputs": [
    {
     "output_type": "execute_result",
     "data": {
      "text/plain": [
       "<module 'Shaper_Analysis_Code' from 'd:\\\\GitHub\\\\physics_laboratory_2020_2021\\\\CATENA ELETTRONICA\\\\Python\\\\Shaper_Analysis_Code.py'>"
      ]
     },
     "metadata": {},
     "execution_count": 21
    }
   ],
   "source": [
    "importlib.reload(SA)"
   ]
  }
 ]
}